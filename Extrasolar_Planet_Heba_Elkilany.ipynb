{
 "cells": [
  {
   "cell_type": "code",
   "execution_count": 2,
   "metadata": {},
   "outputs": [
    {
     "name": "stdout",
     "output_type": "stream",
     "text": [
      "True\n",
      "False\n",
      "dict_keys(['Harry', 'Hermione', 'Ron', 'Fred', 'George', 'Nevel', 'Lord Voldemort', 'Ginny']) dict_values(['B+', 'A+', 'B-', 'C', 'C', 'B', 'F', 'A'])\n",
      "Harry B+\n",
      "Hermione A+\n",
      "Ron B-\n",
      "Fred C\n",
      "George C\n",
      "Nevel B\n",
      "Lord Voldemort F\n",
      "Ginny A\n",
      "B+\n",
      "failed!\n",
      "dict_items([('Harry', 'B+'), ('Hermione', 'A+'), ('Ron', 'B-'), ('Fred', 'C'), ('George', 'C'), ('Nevel', 'B'), ('Lord Voldemort', 'F'), ('Ginny', 'A')])\n"
     ]
    }
   ],
   "source": [
    "import numpy as np\n",
    "import pandas as pd\n",
    "marks = { \"Harry\" : \"B+\", \"Hermione\" : \"A+\", \"Ron\" : \"B-\",\n",
    "          \"Fred\" : \"C\", \"George\": \"C\", \"Nevel\" : \"B\",\n",
    "          \"Lord Voldemort\" : \"F\", \"Ginny\" : \"A\" }\n",
    "\n",
    "# test whether marks has a certain key\n",
    "print(\"Harry\" in marks)\n",
    "print(\"Thomas\" in marks)\n",
    "\n",
    "# obtain lists of keys / values:\n",
    "print(marks.keys(), marks.values())\n",
    "\n",
    "# iterate over the keys of a dictionary:\n",
    "for key in marks.keys():   # equivalent would be: 'for key in marks:'\n",
    "    print(key, marks[key])\n",
    "    \n",
    "# accessing a key that does not exiast returns an error:\n",
    "#print(marks[\"Thomas\"])\n",
    "\n",
    "# retrieve the value of a key. If it does not exist, return a default value:\n",
    "print(marks.get(\"Harry\", \"failed!\"))\n",
    "print(marks.get(\"Thomas\", \"failed!\"))\n",
    "\n",
    "# print a list with key-value tuples:\n",
    "print(marks.items())"
   ]
  }
 ],
 "metadata": {
  "kernelspec": {
   "display_name": "Python 3",
   "language": "python",
   "name": "python3"
  },
  "language_info": {
   "codemirror_mode": {
    "name": "ipython",
    "version": 3
   },
   "file_extension": ".py",
   "mimetype": "text/x-python",
   "name": "python",
   "nbconvert_exporter": "python",
   "pygments_lexer": "ipython3",
   "version": "3.6.3"
  }
 },
 "nbformat": 4,
 "nbformat_minor": 2
}
